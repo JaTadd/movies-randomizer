{
 "cells": [
  {
   "cell_type": "markdown",
   "metadata": {},
   "source": [
    "Notebook ML Random Forest"
   ]
  },
  {
   "cell_type": "code",
   "execution_count": 1,
   "metadata": {},
   "outputs": [
    {
     "data": {
      "text/html": [
       "<pre style=\"white-space:pre;overflow-x:auto;line-height:normal;font-family:Menlo,'DejaVu Sans Mono',consolas,'Courier New',monospace\">Accessing as JaTadd\n",
       "</pre>\n"
      ],
      "text/plain": [
       "Accessing as JaTadd\n"
      ]
     },
     "metadata": {},
     "output_type": "display_data"
    },
    {
     "data": {
      "text/html": [
       "<pre style=\"white-space:pre;overflow-x:auto;line-height:normal;font-family:Menlo,'DejaVu Sans Mono',consolas,'Courier New',monospace\">Initialized MLflow to track repo <span style=\"color: #008000; text-decoration-color: #008000\">\"JaTadd/my-first-repo\"</span>\n",
       "</pre>\n"
      ],
      "text/plain": [
       "Initialized MLflow to track repo \u001b[32m\"JaTadd/my-first-repo\"\u001b[0m\n"
      ]
     },
     "metadata": {},
     "output_type": "display_data"
    },
    {
     "data": {
      "text/html": [
       "<pre style=\"white-space:pre;overflow-x:auto;line-height:normal;font-family:Menlo,'DejaVu Sans Mono',consolas,'Courier New',monospace\">Repository JaTadd/my-first-repo initialized!\n",
       "</pre>\n"
      ],
      "text/plain": [
       "Repository JaTadd/my-first-repo initialized!\n"
      ]
     },
     "metadata": {},
     "output_type": "display_data"
    }
   ],
   "source": [
    "import pandas as pd\n",
    "from sklearn.ensemble import RandomForestClassifier\n",
    "from sklearn.model_selection import train_test_split\n",
    "from sklearn.metrics import accuracy_score, classification_report\n",
    "from sklearn.feature_extraction.text import TfidfVectorizer\n",
    "import mlflow\n",
    "import joblib\n",
    "import matplotlib.pyplot as plt\n",
    "import seaborn as sns\n",
    "import dagshub\n",
    "\n",
    "dagshub.init(repo_owner='JaTadd', repo_name='my-first-repo', mlflow=True)"
   ]
  },
  {
   "cell_type": "code",
   "execution_count": 2,
   "metadata": {},
   "outputs": [
    {
     "name": "stdout",
     "output_type": "stream",
     "text": [
      "                                    _id  \\\n",
      "0  {'$oid': '669d29b63e5b09ef72793aaa'}   \n",
      "1  {'$oid': '669d29b63e5b09ef72793aab'}   \n",
      "2  {'$oid': '669d29b63e5b09ef72793aac'}   \n",
      "3  {'$oid': '669d29b63e5b09ef72793aad'}   \n",
      "4  {'$oid': '669d29b63e5b09ef72793aae'}   \n",
      "\n",
      "                                         title                        genres  \\\n",
      "0                                   Carmencita          [Documentary, Short]   \n",
      "1                               Pauvre Pierrot  [Animation, Comedy, Romance]   \n",
      "2                             Blacksmith Scene               [Comedy, Short]   \n",
      "3  Corbett and Courtney Before the Kinetograph                [Short, Sport]   \n",
      "4       Edison Kinetoscopic Record of a Sneeze          [Documentary, Short]   \n",
      "\n",
      "   year image  IMDBRating  NumVotes  __v  \n",
      "0  1894  None         5.7    2063.0    0  \n",
      "1  1892  None         6.5    2031.0    0  \n",
      "2  1893  None         6.2    2797.0    0  \n",
      "3  1894  None         5.4     877.0    0  \n",
      "4  1894  None         5.4    2211.0    0  \n",
      "Genres les plus fréquents :\n",
      "genres_text\n",
      "Comedy                        9181\n",
      "Drama                         8435\n",
      "Action Adventure Animation    7988\n",
      "Crime Drama Mystery           6017\n",
      "Comedy Drama                  5245\n",
      "Name: count, dtype: int64\n"
     ]
    },
    {
     "data": {
      "image/png": "[encoded data removed]",
      "text/plain": [
       "<Figure size 640x480 with 1 Axes>"
      ]
     },
     "metadata": {},
     "output_type": "display_data"
    }
   ],
   "source": [
    "MOVIES_FILE = \"movieDB.movies.json\"\n",
    "\n",
    "movies = pd.read_json(MOVIES_FILE)\n",
    "\n",
    "# Aperçu des données\n",
    "print(movies.head())\n",
    "\n",
    "# Distribution des genres\n",
    "movies['genres_text'] = movies['genres'].apply(lambda x: ' '.join(x))\n",
    "print(\"Genres les plus fréquents :\")\n",
    "print(movies['genres_text'].value_counts().head())\n",
    "\n",
    "# Visualisation des notes IMDB\n",
    "plt.hist(movies['IMDBRating'].dropna(), bins=20, edgecolor='k')\n",
    "plt.title(\"Distribution des notes IMDB\")\n",
    "plt.xlabel(\"Note IMDB\")\n",
    "plt.ylabel(\"Nombre de films\")\n",
    "plt.show()"
   ]
  },
  {
   "cell_type": "code",
   "execution_count": 3,
   "metadata": {},
   "outputs": [
    {
     "name": "stdout",
     "output_type": "stream",
     "text": [
      "label\n",
      "1    70589\n",
      "0    70589\n",
      "Name: count, dtype: int64\n"
     ]
    }
   ],
   "source": [
    "movies['IMDBRating'] = movies['IMDBRating'].fillna(movies['IMDBRating'].mean())\n",
    "movies['NumVotes'] = movies['NumVotes'].fillna(0)\n",
    "movies['popularity'] = movies['NumVotes'] / movies['NumVotes'].max()\n",
    "# movies['label'] = movies['popularity'].apply(lambda x: 1 if x > 2 * movies['popularity'].mean() else 0)\n",
    "movies['label'] = [1 if i % 2 == 0 else 0 for i in range(len(movies))]\n",
    "\n",
    "print(movies['label'].value_counts())"
   ]
  },
  {
   "cell_type": "code",
   "execution_count": 4,
   "metadata": {},
   "outputs": [
    {
     "name": "stdout",
     "output_type": "stream",
     "text": [
      "Précision du modèle : 0.49\n",
      "              precision    recall  f1-score   support\n",
      "\n",
      "           0       0.49      0.50      0.50     14173\n",
      "           1       0.49      0.49      0.49     14063\n",
      "\n",
      "    accuracy                           0.49     28236\n",
      "   macro avg       0.49      0.49      0.49     28236\n",
      "weighted avg       0.49      0.49      0.49     28236\n",
      "\n"
     ]
    }
   ],
   "source": [
    "# Vectoriser les genres avec TF-IDF\n",
    "tfidf = TfidfVectorizer()\n",
    "genre_matrix = tfidf.fit_transform(movies['genres_text'])\n",
    "\n",
    "X = pd.concat(\n",
    "    [pd.DataFrame(genre_matrix.toarray()), movies[['IMDBRating', 'NumVotes', 'popularity']].reset_index(drop=True)],\n",
    "    axis=1\n",
    ")\n",
    "y = movies['label']\n",
    "X.columns = X.columns.astype(str)\n",
    "\n",
    "X_train, X_test, y_train, y_test = train_test_split(X, y, test_size=0.2, random_state=42)\n",
    "\n",
    "model = RandomForestClassifier(random_state=42)\n",
    "model.fit(X_train, y_train)\n",
    "\n",
    "#Evaluate\n",
    "y_pred = model.predict(X_test)\n",
    "accuracy = accuracy_score(y_test, y_pred)\n",
    "print(f\"Précision du modèle : {accuracy:.2f}\")\n",
    "print(classification_report(y_test, y_pred))"
   ]
  },
  {
   "cell_type": "code",
   "execution_count": 5,
   "metadata": {},
   "outputs": [
    {
     "name": "stdout",
     "output_type": "stream",
     "text": [
      "Modèle et artefacts enregistrés avec MLFlow.\n",
      "🏃 View run incongruous-bass-937 at: https://dagshub.com/JaTadd/my-first-repo.mlflow/#/experiments/0/runs/cffb3d48544d48269456a9ddb98af376\n",
      "🧪 View experiment at: https://dagshub.com/JaTadd/my-first-repo.mlflow/#/experiments/0\n"
     ]
    }
   ],
   "source": [
    "# Enregistrer le modèle et les résultats dans MLFlow\n",
    "with mlflow.start_run():\n",
    "    mlflow.log_param(\"model_type\", \"Random Forest\")\n",
    "    mlflow.log_metric(\"accuracy\", accuracy)\n",
    "    \n",
    "    # Sauvegarder le modèle et le vectoriseur\n",
    "    joblib.dump(model, \"content_based_model.pkl\")\n",
    "    joblib.dump(tfidf, \"tfidf_vectorizer.pkl\")\n",
    "    \n",
    "    mlflow.log_artifact(\"content_based_model.pkl\")\n",
    "    mlflow.log_artifact(\"tfidf_vectorizer.pkl\")\n",
    "    print(\"Modèle et artefacts enregistrés avec MLFlow.\")"
   ]
  }
 ],
 "metadata": {
  "kernelspec": {
   "display_name": "Python 3",
   "language": "python",
   "name": "python3"
  },
  "language_info": {
   "codemirror_mode": {
    "name": "ipython",
    "version": 3
   },
   "file_extension": ".py",
   "mimetype": "text/x-python",
   "name": "python",
   "nbconvert_exporter": "python",
   "pygments_lexer": "ipython3",
   "version": "3.9.10"
  }
 },
 "nbformat": 4,
 "nbformat_minor": 2
}
